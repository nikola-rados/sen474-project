{
 "cells": [
  {
   "cell_type": "code",
   "execution_count": 8,
   "metadata": {},
   "outputs": [],
   "source": [
    "from modules import process as prc\n",
    "import pandas\n",
    "from sklearn.naive_bayes import BernoulliNB\n",
    "from sklearn.naive_bayes import MultinomialNB\n",
    "from sklearn.naive_bayes import GaussianNB\n"
   ]
  },
  {
   "cell_type": "code",
   "execution_count": 9,
   "metadata": {},
   "outputs": [],
   "source": [
    "test_data = pandas.read_csv('../data/test.csv', sep=',', header=0)\n",
    "train_data = pandas.read_csv('../data/train.csv', sep=',', header=0)\n",
    "\n",
    "X_test = test_data.iloc[:, 0:5]\n",
    "X_train = train_data.iloc[:, 0:5]\n",
    "y_test = test_data.iloc[:, -1]\n",
    "y_train = train_data.iloc[:, -1]"
   ]
  },
  {
   "cell_type": "code",
   "execution_count": 11,
   "metadata": {},
   "outputs": [
    {
     "name": "stdout",
     "output_type": "stream",
     "text": [
      "96.0\n",
      "97.0\n"
     ]
    }
   ],
   "source": [
    "# bernoulli\n",
    "BernNP = BernoulliNB(binarize = True)\n",
    "BernNP.fit(X_train, y_train)\n",
    "\n",
    "y_pred = BernNP.predict(X_test)\n",
    "\n",
    "print(prc.accuracy_score(y_pred, y_test))\n",
    "\n",
    "\n",
    "# Gaussian\n",
    "gaussNB = GaussianNB()\n",
    "gaussNB.fit(X_train, y_train)\n",
    "\n",
    "y_pred = gaussNB.predict(X_test)\n",
    "\n",
    "print(prc.accuracy_score(y_pred, y_test))"
   ]
  },
  {
   "cell_type": "code",
   "execution_count": null,
   "metadata": {},
   "outputs": [],
   "source": []
  }
 ],
 "metadata": {
  "kernelspec": {
   "display_name": "Python 3",
   "language": "python",
   "name": "python3"
  },
  "language_info": {
   "codemirror_mode": {
    "name": "ipython",
    "version": 3
   },
   "file_extension": ".py",
   "mimetype": "text/x-python",
   "name": "python",
   "nbconvert_exporter": "python",
   "pygments_lexer": "ipython3",
   "version": "3.7.4"
  }
 },
 "nbformat": 4,
 "nbformat_minor": 2
}
