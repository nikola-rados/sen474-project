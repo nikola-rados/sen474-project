{
 "cells": [
  {
   "cell_type": "markdown",
   "metadata": {},
   "source": [
    "# Data Analysis\n",
    "\n",
    "## READ BEFORE DEVELOPING\n",
    "If you make any changes to the files in `modules` you have to take the following steps to get those changes in here:\n",
    "1. Shut down `jupyter notebook`\n",
    "2. Run `pip install .` on project root directory\n",
    "3. Start up `jupyter notebook` and re-run all of the cells (to make sure it gets the imports and all)"
   ]
  },
  {
   "cell_type": "code",
   "execution_count": 12,
   "metadata": {},
   "outputs": [],
   "source": [
    "from modules import process as prc\n",
    "from pkg_resources import resource_filename"
   ]
  },
  {
   "cell_type": "code",
   "execution_count": 13,
   "metadata": {},
   "outputs": [],
   "source": [
    "# Collect the raw data output from API\n",
    "raw_data = prc.read_file(resource_filename('data', 'training_data.json'))\n",
    "\n",
    "# After loading in the raw data we want to clean out any instances were the was an invalid match\n",
    "data = prc.filter_bad_data(raw_data)\n",
    "\n",
    "# Get the hero win rate dataset\n",
    "hero_winrates = prc.get_hero_winrates(data, resource_filename('data', 'heroes.json'))"
   ]
  },
  {
   "cell_type": "code",
   "execution_count": 19,
   "metadata": {},
   "outputs": [],
   "source": [
    "# Do calculations on data\n",
    "count = 0\n",
    "for result in data:\n",
    "    match = result['result']\n",
    "    teams = prc.determine_teams(match) #{'radiant_roster': radiant, 'dire_roster': dire}\n",
    "\n",
    "    # calculate team networths\n",
    "    radiant_networth = prc.calculate_per_min_metrics(teams['radiant_roster'], match['duration'], 'gold_per_min')\n",
    "    dire_networth = prc.calculate_per_min_metrics(teams['dire_roster'], match['duration'], 'gold_per_min')\n",
    "    networth_diff = radiant_networth - dire_networth\n",
    "\n",
    "    # calculate team exp\n",
    "    radiant_xp = prc.calculate_per_min_metrics(teams['radiant_roster'], match['duration'], 'xp_per_min')\n",
    "    dire_xp = prc.calculate_per_min_metrics(teams['dire_roster'], match['duration'], 'xp_per_min')\n",
    "    xp_diff = radiant_xp - dire_xp\n",
    "    \n",
    "    # calculate winrate average\n",
    "    radiant_winrate = prc.calculate_winrate_average(teams['radiant_roster'], hero_winrates)\n",
    "    dire_winrate = prc.calculate_winrate_average(teams['dire_roster'], hero_winrates)\n",
    "    winrate_diff = radiant_winrate - dire_winrate    \n",
    "    \n",
    "    # get team scores\n",
    "    team_scores = prc.get_team_scores(match)\n",
    "    score_diff = team_scores['radiant_score'] - team_scores['dire_score']\n",
    "    \n",
    "    # get barracks\n",
    "    radiant_barracks_alive = prc.get_number_of_standing_buildings(match['barracks_status_radiant'])\n",
    "    dire_barracks_alive = prc.get_number_of_standing_buildings(match['barracks_status_dire'])\n",
    "    barracks_diff = radiant_barracks_alive - dire_barracks_alive\n",
    "    \n",
    "    # get radiant win\n",
    "    win = match['radiant_win']\n",
    "    \n",
    "    # put data into csv\n",
    "    \n",
    "\n",
    "    # only run for small sample size to test\n",
    "    count += 1\n",
    "    if count > 100:\n",
    "        prc.to_csv('../data/train.csv', networth_diff, xp_diff, winrate_diff, score_diff, barracks_diff, win)\n",
    "        if count == 200:\n",
    "            break\n",
    "        "
   ]
  },
  {
   "cell_type": "code",
   "execution_count": null,
   "metadata": {},
   "outputs": [],
   "source": []
  }
 ],
 "metadata": {
  "kernelspec": {
   "display_name": "Python 3",
   "language": "python",
   "name": "python3"
  },
  "language_info": {
   "codemirror_mode": {
    "name": "ipython",
    "version": 3
   },
   "file_extension": ".py",
   "mimetype": "text/x-python",
   "name": "python",
   "nbconvert_exporter": "python",
   "pygments_lexer": "ipython3",
   "version": "3.7.4"
  }
 },
 "nbformat": 4,
 "nbformat_minor": 2
}
