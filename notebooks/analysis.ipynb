{
 "cells": [
  {
   "cell_type": "markdown",
   "metadata": {},
   "source": [
    "# Data Analysis\n",
    "\n",
    "## READ BEFORE DEVELOPING\n",
    "If you make any changes to the files in `modules` you have to take the following steps to get those changes in here:\n",
    "1. Shut down `jupyter notebook`\n",
    "2. Run `pip install .` on project root directory\n",
    "3. Start up `jupyter notebook` and re-run all of the cells (to make sure it gets the imports and all)"
   ]
  },
  {
   "cell_type": "code",
   "execution_count": 11,
   "metadata": {},
   "outputs": [],
   "source": [
    "from modules import process as prc\n",
    "from pkg_resources import resource_filename"
   ]
  },
  {
   "cell_type": "code",
   "execution_count": 12,
   "metadata": {},
   "outputs": [],
   "source": [
    "raw_data = prc.read_file(resource_filename('data', 'training_data.json'))"
   ]
  },
  {
   "cell_type": "code",
   "execution_count": 13,
   "metadata": {},
   "outputs": [],
   "source": [
    "# After loading in the raw data we want to clean out any instances were the was an invalid match\n",
    "data = prc.filter_bad_data(raw_data)"
   ]
  },
  {
   "cell_type": "code",
   "execution_count": 14,
   "metadata": {},
   "outputs": [
    {
     "name": "stdout",
     "output_type": "stream",
     "text": [
      "{1: 45.047489823609226, 2: 51.47392290249433, 3: 47.3170731707317, 4: 48.643410852713174, 5: 51.02239532619279, 6: 51.77304964539007, 7: 47.48010610079575, 8: 49.032738095238095, 9: 51.93065405831363, 10: 44.9685534591195, 11: 48.33574529667149, 12: 52.40506329113924, 13: 39.58333333333333, 14: 52.54372019077902, 15: 49.09747292418773, 16: 50.0875656742557, 17: 47.682119205298015, 18: 49.2063492063492, 19: 47.1559633027523, 20: 51.12994350282486, 21: 53.00653594771242, 22: 54.095238095238095, 23: 48.2311320754717, 25: 46.31710362047441, 26: 50.05500550055005, 27: 52.26666666666666, 28: 49.91023339317774, 29: 52.45346869712352, 30: 51.29770992366412, 31: 52.35457063711911, 32: 59.118727050183594, 33: 49.80694980694981, 34: 45.84717607973422, 35: 43.976897689768975, 36: 47.18543046357616, 37: 50.74626865671642, 38: 42.64705882352941, 39: 44.35946462715105, 40: 50.728155339805824, 41: 53.437967115097166, 42: 54.665203073545555, 43: 42.30769230769231, 44: 51.045016077170416, 45: 48.478701825557806, 46: 46.005509641873275, 47: 55.43130990415336, 48: 54.40860215053763, 49: 46.900269541778975, 50: 52.601156069364166, 51: 50.20746887966805, 52: 41.2751677852349, 53: 42.857142857142854, 54: 51.24999999999999, 55: 45.67901234567901, 56: 54.285714285714285, 57: 45.83333333333333, 58: 50.80946450809465, 59: 53.42789598108747, 60: 53.62318840579711, 61: 43.63636363636363, 62: 51.515151515151516, 63: 50.63025210084034, 64: 50.87440381558028, 65: 45.63758389261745, 66: 54.629629629629626, 67: 53.3106960950764, 68: 53.76344086021505, 69: 44.97991967871486, 70: 49.681528662420384, 71: 48.33625218914185, 72: 51.474926253687315, 73: 51.424287856071956, 74: 48.66039102099928, 75: 55.55555555555556, 76: 51.33531157270029, 77: 38.73873873873874, 78: 50.79365079365079, 79: 48.764044943820224, 80: 46.913580246913575, 81: 50.0, 82: 45.666666666666664, 83: 44.57364341085272, 84: 51.33410672853829, 85: 50.40650406504065, 86: 46.34146341463415, 87: 55.688622754491014, 88: 42.465753424657535, 89: 49.24812030075188, 90: 52.610441767068274, 91: 51.91637630662021, 92: 47.95918367346938, 93: 52.37691001697793, 94: 45.65826330532213, 95: 48.84318766066838, 96: 49.86666666666667, 97: 44.86301369863014, 98: 45.70858283433134, 99: 52.17853347502657, 100: 47.46666666666667, 101: 52.461139896373055, 102: 56.42857142857143, 103: 55.75539568345324, 104: 51.20087336244541, 105: 46.975806451612904, 106: 46.4327485380117, 107: 45.68527918781726, 108: 55.47445255474452, 109: 48.275862068965516, 110: 50.31250000000001, 111: 47.82608695652174, 112: 43.84057971014493, 113: 48.55769230769231, 114: 47.5, 119: 48.41269841269841, 120: 46.4203233256351, 121: 47.20616570327553, 129: 47.65625}\n"
     ]
    }
   ],
   "source": [
    "# Get the hero win rate dataset\n",
    "hero_winrates = prc.get_hero_winrates(data, resource_filename('data', 'heroes.json'))\n",
    "print(hero_winrates)"
   ]
  },
  {
   "cell_type": "code",
   "execution_count": 15,
   "metadata": {},
   "outputs": [
    {
     "name": "stdout",
     "output_type": "stream",
     "text": [
      "50.35252314953314\n",
      "49.51139202096101\n"
     ]
    }
   ],
   "source": [
    "# Get team win rates EXAMPLE\n",
    "match = data[1192]['result']\n",
    "teams = prc.determine_teams(match)\n",
    "for name, team_roster in teams.items():\n",
    "    team_winrate = prc.calculate_winrate_average(team_roster, hero_winrates)\n",
    "    print(team_winrate)"
   ]
  },
  {
   "cell_type": "code",
   "execution_count": null,
   "metadata": {},
   "outputs": [],
   "source": []
  }
 ],
 "metadata": {
  "kernelspec": {
   "display_name": "Python 3",
   "language": "python",
   "name": "python3"
  },
  "language_info": {
   "codemirror_mode": {
    "name": "ipython",
    "version": 3
   },
   "file_extension": ".py",
   "mimetype": "text/x-python",
   "name": "python",
   "nbconvert_exporter": "python",
   "pygments_lexer": "ipython3",
   "version": "3.5.4"
  }
 },
 "nbformat": 4,
 "nbformat_minor": 2
}
