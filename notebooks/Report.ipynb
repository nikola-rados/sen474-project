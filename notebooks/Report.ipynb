{
 "cells": [
  {
   "cell_type": "markdown",
   "metadata": {},
   "source": [
    "# Bernoulli Prediction\n",
    "\n",
    "In this example we will use the 9130 datasets to train the model."
   ]
  },
  {
   "cell_type": "code",
   "execution_count": 82,
   "metadata": {},
   "outputs": [],
   "source": [
    "from modules import process as prc\n",
    "import pandas\n",
    "from sklearn.naive_bayes import BernoulliNB\n",
    "import numpy as np"
   ]
  },
  {
   "cell_type": "code",
   "execution_count": 83,
   "metadata": {},
   "outputs": [],
   "source": [
    "# Get training data\n",
    "train_data = pandas.read_csv('../data/training_data.csv', sep=',', header=0)\n",
    "X_train = train_data.iloc[:, 0:6]\n",
    "y_train = train_data.iloc[:, -1]"
   ]
  },
  {
   "cell_type": "code",
   "execution_count": 84,
   "metadata": {},
   "outputs": [
    {
     "data": {
      "text/plain": [
       "BernoulliNB(alpha=1.0, binarize=True, class_prior=None, fit_prior=True)"
      ]
     },
     "execution_count": 84,
     "metadata": {},
     "output_type": "execute_result"
    }
   ],
   "source": [
    "# Train using Bernoulli\n",
    "BernNP = BernoulliNB(binarize = True)\n",
    "BernNP.fit(X_train, y_train)"
   ]
  },
  {
   "cell_type": "markdown",
   "metadata": {},
   "source": [
    "Now that we have trained the data we want to make a class prediction.  Given an `X` value of:\n",
    "| net_worth | net_xp | team_winrate_avg | score | net_barracks | duration |\n",
    "| :-------: | :----: | :--------------: | :---: | :----------: | :------: |\n",
    "| 1000 | -1000 | -2.0 | -5 | 0 | 3600|\n",
    "```\n",
    "[1000, -1000, -2.0, -5, 0, 3600]\n",
    "```"
   ]
  },
  {
   "cell_type": "code",
   "execution_count": 85,
   "metadata": {},
   "outputs": [
    {
     "name": "stdout",
     "output_type": "stream",
     "text": [
      "Prediction: False\n"
     ]
    }
   ],
   "source": [
    "test = np.array([[1000, -1000, -2.0, -5, 0, 3600]])\n",
    "prediction = BernNP.predict(test)\n",
    "print('Prediction: {}'.format(prediction[0]))"
   ]
  },
  {
   "cell_type": "markdown",
   "metadata": {},
   "source": [
    "Despite having a narrow gold advantage Radiant is predicted to lose this match."
   ]
  },
  {
   "cell_type": "code",
   "execution_count": null,
   "metadata": {},
   "outputs": [],
   "source": []
  }
 ],
 "metadata": {
  "kernelspec": {
   "display_name": "Python 3",
   "language": "python",
   "name": "python3"
  },
  "language_info": {
   "codemirror_mode": {
    "name": "ipython",
    "version": 3
   },
   "file_extension": ".py",
   "mimetype": "text/x-python",
   "name": "python",
   "nbconvert_exporter": "python",
   "pygments_lexer": "ipython3",
   "version": "3.5.4"
  }
 },
 "nbformat": 4,
 "nbformat_minor": 2
}
